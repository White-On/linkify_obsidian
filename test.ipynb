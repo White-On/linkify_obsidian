{
 "cells": [
  {
   "cell_type": "code",
   "execution_count": 4,
   "metadata": {},
   "outputs": [],
   "source": [
    "from pathlib import Path\n",
    "\n",
    "path_name = Path(\"no_retrolien\")"
   ]
  },
  {
   "cell_type": "code",
   "execution_count": 5,
   "metadata": {},
   "outputs": [],
   "source": [
    "markdown_files = list(path_name.glob(\"**/*.md\"))\n",
    "# filter out dot folders like .obsidian\n",
    "# both for Unix and Windows paths\n",
    "markdown_files = [\n",
    "    file\n",
    "    for file in markdown_files\n",
    "    if not \"/.\" in str(file) and not \"\\.\" in str(file)\n",
    "]"
   ]
  },
  {
   "cell_type": "code",
   "execution_count": 6,
   "metadata": {},
   "outputs": [
    {
     "name": "stdout",
     "output_type": "stream",
     "text": [
      "Done\n"
     ]
    }
   ],
   "source": [
    "# remove all the retrolien links from the markdown files\n",
    "# so remove \"[[\" \"]]\"\n",
    "for file in markdown_files:\n",
    "    with open(file, \"r\", encoding=\"utf-8\") as f:\n",
    "        lines = f.readlines()\n",
    "    with open(file, \"w\", encoding=\"utf-8\") as f:\n",
    "        for line in lines:\n",
    "            f.write(line.replace(\"[[\", \"\").replace(\"]]\", \"\"))\n",
    "\n",
    "print(\"Done\")\n",
    "              "
   ]
  }
 ],
 "metadata": {
  "kernelspec": {
   "display_name": "Python 3",
   "language": "python",
   "name": "python3"
  },
  "language_info": {
   "codemirror_mode": {
    "name": "ipython",
    "version": 3
   },
   "file_extension": ".py",
   "mimetype": "text/x-python",
   "name": "python",
   "nbconvert_exporter": "python",
   "pygments_lexer": "ipython3",
   "version": "3.9.9"
  }
 },
 "nbformat": 4,
 "nbformat_minor": 2
}
